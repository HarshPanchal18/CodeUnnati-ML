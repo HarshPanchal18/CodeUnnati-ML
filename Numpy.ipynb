{
 "cells": [
  {
   "cell_type": "markdown",
   "metadata": {},
   "source": [
    "### NumPy\n"
   ]
  },
  {
   "cell_type": "code",
   "execution_count": 2,
   "metadata": {},
   "outputs": [
    {
     "name": "stdout",
     "output_type": "stream",
     "text": [
      "[1 2 3]\n",
      "[[1 2 3]\n",
      " [4 5 6]]\n",
      "2\n"
     ]
    }
   ],
   "source": [
    "import numpy as np\n",
    "\n",
    "arr = np.array([1, 2, 3])\n",
    "arr2d = np.array([(1, 2, 3), (4, 5, 6)])\n",
    "print(arr)\n",
    "print(arr2d)\n",
    "print(arr2d.ndim)  # Dimension"
   ]
  },
  {
   "cell_type": "code",
   "execution_count": 8,
   "metadata": {},
   "outputs": [
    {
     "name": "stdout",
     "output_type": "stream",
     "text": [
      "[1. 2. 3. 4. 5. 6. 7.]\n"
     ]
    }
   ],
   "source": [
    "import numpy as np\n",
    "\n",
    "a = np.array([1, 2, 3, 4, 5, 6, 7])\n",
    "np.save(\"out\", a)\n",
    "np.savetxt(\"out\", a)\n",
    "\n",
    "print(np.loadtxt(\"out\"))"
   ]
  },
  {
   "cell_type": "markdown",
   "metadata": {},
   "source": [
    "#### Indexing\n"
   ]
  },
  {
   "cell_type": "code",
   "execution_count": 12,
   "metadata": {},
   "outputs": [
    {
     "name": "stdout",
     "output_type": "stream",
     "text": [
      "[1 3 5 7 9]\n",
      "[9 1 5 9 7]\n"
     ]
    }
   ],
   "source": [
    "import numpy as np\n",
    "\n",
    "arr = np.arange(1, 10, 2)\n",
    "print(arr)\n",
    "\n",
    "arr2 = arr[np.array([4, 0, 2, -1, -2])]  # Putting as an index of 'arr'\n",
    "print(arr2)"
   ]
  },
  {
   "cell_type": "code",
   "execution_count": 5,
   "metadata": {},
   "outputs": [
    {
     "name": "stdout",
     "output_type": "stream",
     "text": [
      "[[ 0  1  2  3  4  5]\n",
      " [ 6  7  8  9 10 11]]\n",
      "\n",
      "[[[ 0  1  2]\n",
      "  [ 3  4  5]]\n",
      "\n",
      " [[ 6  7  8]\n",
      "  [ 9 10 11]]]\n"
     ]
    }
   ],
   "source": [
    "arr = np.arange(12)\n",
    "arr1 = arr.reshape(2, 6)  # Construct a 2D matrix\n",
    "print(arr1)\n",
    "print()\n",
    "\n",
    "arr1 = arr.reshape(2, 2, 3)  # Construct a 3D matrix\n",
    "print(arr1)"
   ]
  },
  {
   "cell_type": "code",
   "execution_count": 28,
   "metadata": {},
   "outputs": [
    {
     "name": "stdout",
     "output_type": "stream",
     "text": [
      "[[ 0  1  2  3]\n",
      " [ 4  5  6  7]\n",
      " [ 8  9 10 11]]\n",
      "Element at 1:,1:2\n",
      " [[5]\n",
      " [9]]\n",
      "Element at 1:,1:4\n",
      " [[ 5  6  7]\n",
      " [ 9 10 11]]\n"
     ]
    }
   ],
   "source": [
    "arr2 = arr.reshape(3, 4)\n",
    "print(arr2)\n",
    "\n",
    "print(\"Element at 1:,1:2\\n\", arr2[1:, 1:2])\n",
    "print(\"Element at 1:,1:4\\n\", arr2[1:, 1:4])"
   ]
  },
  {
   "cell_type": "markdown",
   "metadata": {},
   "source": [
    "#### Broadcasting\n"
   ]
  },
  {
   "cell_type": "code",
   "execution_count": 31,
   "metadata": {},
   "outputs": [
    {
     "name": "stdout",
     "output_type": "stream",
     "text": [
      "[[ 1  2  3]\n",
      " [11 12 13]\n",
      " [21 22 23]\n",
      " [31 32 33]]\n"
     ]
    }
   ],
   "source": [
    "a = np.array([[0, 0, 0], [10, 10, 10], [20, 20, 20], [30, 30, 30]])\n",
    "b = np.array([1, 2, 3])  # Adding on columns\n",
    "\n",
    "print(a + b)"
   ]
  },
  {
   "cell_type": "code",
   "execution_count": 7,
   "metadata": {},
   "outputs": [
    {
     "name": "stdout",
     "output_type": "stream",
     "text": [
      "[('Ha', 2, 20.) ('F', 3, 30.) ('W', 5, 50.)]\n",
      "['Ha' 'F' 'W']\n",
      "[20. 30. 50.]\n"
     ]
    }
   ],
   "source": [
    "a = np.array(\n",
    "    [(\"Ha\", 2, 20.0), (\"F\", 3, 30.0), (\"W\", 5, 50.0)],\n",
    "    dtype=[(\"name\", (np.str_, 10)), (\"age\", (np.int32)), (\"weight\", (np.float64))],\n",
    ")\n",
    "print(a)\n",
    "print(a[\"name\"])\n",
    "print(a[\"weight\"])"
   ]
  }
 ],
 "metadata": {
  "kernelspec": {
   "display_name": "Python 3",
   "language": "python",
   "name": "python3"
  },
  "language_info": {
   "codemirror_mode": {
    "name": "ipython",
    "version": 3
   },
   "file_extension": ".py",
   "mimetype": "text/x-python",
   "name": "python",
   "nbconvert_exporter": "python",
   "pygments_lexer": "ipython3",
   "version": "3.9.4"
  }
 },
 "nbformat": 4,
 "nbformat_minor": 2
}
