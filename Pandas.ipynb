{
 "cells": [
  {
   "cell_type": "code",
   "execution_count": 15,
   "metadata": {},
   "outputs": [
    {
     "name": "stdout",
     "output_type": "stream",
     "text": [
      "Series([], dtype: object)\n",
      "['g' 'e' 'e' 'k' 's']\n",
      "0    g\n",
      "1    e\n",
      "2    e\n",
      "3    k\n",
      "4    s\n",
      "dtype: object\n"
     ]
    },
    {
     "data": {
      "text/plain": [
       "'k'"
      ]
     },
     "execution_count": 15,
     "metadata": {},
     "output_type": "execute_result"
    }
   ],
   "source": [
    "# Creating a series\n",
    "\n",
    "import pandas as pd\n",
    "import numpy as np\n",
    "\n",
    "ser = pd.Series()  #\n",
    "print(ser)\n",
    "\n",
    "data = np.array([\"g\", \"e\", \"e\", \"k\", \"s\"])\n",
    "print(data)\n",
    "\n",
    "ser = pd.Series(data)\n",
    "print(ser)\n",
    "ser[3]"
   ]
  },
  {
   "cell_type": "code",
   "execution_count": 17,
   "metadata": {},
   "outputs": [
    {
     "name": "stdout",
     "output_type": "stream",
     "text": [
      "0    g\n",
      "1    e\n",
      "2    e\n",
      "3    k\n",
      "4    s\n",
      "dtype: object\n"
     ]
    }
   ],
   "source": [
    "# Series from list\n",
    "list = [\"g\", \"e\", \"e\", \"k\", \"s\"]\n",
    "\n",
    "ser = pd.Series(list)\n",
    "print(ser)"
   ]
  },
  {
   "cell_type": "code",
   "execution_count": 48,
   "metadata": {},
   "outputs": [
    {
     "data": {
      "text/plain": [
       "0                  NaN\n",
       "1        United States\n",
       "2         South Africa\n",
       "3       United Kingdom\n",
       "4               Russia\n",
       "             ...      \n",
       "6156             China\n",
       "6157     United States\n",
       "6158         Australia\n",
       "6159             India\n",
       "6160            Russia\n",
       "Name: Country, Length: 6161, dtype: object"
      ]
     },
     "execution_count": 48,
     "metadata": {},
     "output_type": "execute_result"
    }
   ],
   "source": [
    "# Indexing\n",
    "data = pd.read_csv(\"airlines.csv\")\n",
    "data\n",
    "data.head()  # First N\n",
    "data.tail()  # Last N (default 5)\n",
    "data.columns  # Columns\n",
    "data[\"Active\"]  # Print 'Active' Column of all rows\n",
    "data[\"Country\"]"
   ]
  },
  {
   "cell_type": "code",
   "execution_count": 45,
   "metadata": {},
   "outputs": [
    {
     "name": "stdout",
     "output_type": "stream",
     "text": [
      "  Head Title\n",
      "0      Geeks\n",
      "1        For\n",
      "2      Geeks\n",
      "3         is\n",
      "4     Portal\n",
      "5        For\n",
      "6      Geeks\n",
      "\n",
      "   Name  Age\n",
      "0   Tom   20\n",
      "1  Nick   19\n",
      "2   Jay   21\n",
      "3  Jack   18\n"
     ]
    }
   ],
   "source": [
    "# Pandas Dataframe\n",
    "\n",
    "lst = [\"Geeks\", \"For\", \"Geeks\", \"is\", \"Portal\", \"For\", \"Geeks\"]\n",
    "df = pd.DataFrame(lst, columns=[\"Head Title\"])\n",
    "print(df)\n",
    "print()\n",
    "\n",
    "dataName = {\"Name\": [\"Tom\", \"Nick\", \"Jay\", \"Jack\"], \"Age\": [20, 19, 21, 18]}\n",
    "df = pd.DataFrame(dataName)\n",
    "print(df)"
   ]
  },
  {
   "cell_type": "code",
   "execution_count": 55,
   "metadata": {},
   "outputs": [
    {
     "name": "stdout",
     "output_type": "stream",
     "text": [
      "<class 'pandas.core.frame.DataFrame'>\n",
      "RangeIndex: 6161 entries, 0 to 6160\n",
      "Data columns (total 6 columns):\n",
      " #   Column    Non-Null Count  Dtype \n",
      "---  ------    --------------  ----- \n",
      " 0   Name      6161 non-null   object\n",
      " 1   IATA      1534 non-null   object\n",
      " 2   ICAO      6075 non-null   object\n",
      " 3   Callsign  5353 non-null   object\n",
      " 4   Country   6146 non-null   object\n",
      " 5   Active    6161 non-null   object\n",
      "dtypes: object(6)\n",
      "memory usage: 288.9+ KB\n"
     ]
    },
    {
     "data": {
      "text/html": [
       "<div>\n",
       "<style scoped>\n",
       "    .dataframe tbody tr th:only-of-type {\n",
       "        vertical-align: middle;\n",
       "    }\n",
       "\n",
       "    .dataframe tbody tr th {\n",
       "        vertical-align: top;\n",
       "    }\n",
       "\n",
       "    .dataframe thead th {\n",
       "        text-align: right;\n",
       "    }\n",
       "</style>\n",
       "<table border=\"1\" class=\"dataframe\">\n",
       "  <thead>\n",
       "    <tr style=\"text-align: right;\">\n",
       "      <th></th>\n",
       "      <th>Name</th>\n",
       "      <th>IATA</th>\n",
       "      <th>ICAO</th>\n",
       "      <th>Callsign</th>\n",
       "      <th>Country</th>\n",
       "      <th>Active</th>\n",
       "    </tr>\n",
       "  </thead>\n",
       "  <tbody>\n",
       "    <tr>\n",
       "      <th>count</th>\n",
       "      <td>6161</td>\n",
       "      <td>1534</td>\n",
       "      <td>6075</td>\n",
       "      <td>5353</td>\n",
       "      <td>6146</td>\n",
       "      <td>6161</td>\n",
       "    </tr>\n",
       "    <tr>\n",
       "      <th>unique</th>\n",
       "      <td>6072</td>\n",
       "      <td>1121</td>\n",
       "      <td>5854</td>\n",
       "      <td>5262</td>\n",
       "      <td>277</td>\n",
       "      <td>3</td>\n",
       "    </tr>\n",
       "    <tr>\n",
       "      <th>top</th>\n",
       "      <td>Royal Air Force</td>\n",
       "      <td>1I</td>\n",
       "      <td>\\N</td>\n",
       "      <td>Inc.</td>\n",
       "      <td>United States</td>\n",
       "      <td>N</td>\n",
       "    </tr>\n",
       "    <tr>\n",
       "      <th>freq</th>\n",
       "      <td>5</td>\n",
       "      <td>7</td>\n",
       "      <td>188</td>\n",
       "      <td>20</td>\n",
       "      <td>1099</td>\n",
       "      <td>4906</td>\n",
       "    </tr>\n",
       "  </tbody>\n",
       "</table>\n",
       "</div>"
      ],
      "text/plain": [
       "                   Name  IATA  ICAO Callsign        Country Active\n",
       "count              6161  1534  6075     5353           6146   6161\n",
       "unique             6072  1121  5854     5262            277      3\n",
       "top     Royal Air Force    1I    \\N     Inc.  United States      N\n",
       "freq                  5     7   188       20           1099   4906"
      ]
     },
     "execution_count": 55,
     "metadata": {},
     "output_type": "execute_result"
    }
   ],
   "source": [
    "data.info()\n",
    "data.describe()"
   ]
  },
  {
   "cell_type": "code",
   "execution_count": 65,
   "metadata": {},
   "outputs": [
    {
     "name": "stdout",
     "output_type": "stream",
     "text": [
      "   Values\n",
      "A     114\n",
      "B       5\n",
      "   Values\n",
      "A     114\n",
      "B       5\n"
     ]
    }
   ],
   "source": [
    "# Reindexing\n",
    "info = pd.DataFrame([114, 5], index=[\"A\", \"B\"], columns=[\"Values\"])\n",
    "print(info)\n",
    "\n",
    "info.reindex([\"AA\", \"BB\"], fill_value=10)\n",
    "print(info)"
   ]
  },
  {
   "cell_type": "code",
   "execution_count": 83,
   "metadata": {},
   "outputs": [
    {
     "name": "stdout",
     "output_type": "stream",
     "text": [
      "          c4        c2\n",
      "1  -0.162932 -0.519346\n",
      "5  -0.046286  0.170575\n",
      "8   0.516950  1.352456\n",
      "4  -1.243991 -0.885991\n",
      "16 -1.750190  0.075136\n",
      "9   0.218104  0.454792\n",
      "5   1.126956 -0.189743\n",
      "7   1.066696 -0.936515\n",
      "4   1.981983 -0.624764\n",
      "69 -0.176938 -0.763704\n",
      "          c4        c2\n",
      "1  -0.162932 -0.519346\n",
      "4  -1.243991 -0.885991\n",
      "4   1.981983 -0.624764\n",
      "5  -0.046286  0.170575\n",
      "5   1.126956 -0.189743\n",
      "7   1.066696 -0.936515\n",
      "8   0.516950  1.352456\n",
      "9   0.218104  0.454792\n",
      "16 -1.750190  0.075136\n",
      "69 -0.176938 -0.763704\n",
      "          c2        c4\n",
      "1  -0.519346 -0.162932\n",
      "5   0.170575 -0.046286\n",
      "8   1.352456  0.516950\n",
      "4  -0.885991 -1.243991\n",
      "16  0.075136 -1.750190\n",
      "9   0.454792  0.218104\n",
      "5  -0.189743  1.126956\n",
      "7  -0.936515  1.066696\n",
      "4  -0.624764  1.981983\n",
      "69 -0.763704 -0.176938\n"
     ]
    }
   ],
   "source": [
    "unsortedDF = pd.DataFrame(\n",
    "    data=np.random.randn(10, 2),\n",
    "    # columns=[\"c1\", \"c2\"],\n",
    "    columns=[\"c4\", \"c2\"],\n",
    "    index=[1, 5, 8, 4, 16, 9, 5, 7, 4, 69],\n",
    ")\n",
    "print(unsortedDF)\n",
    "sortedDF = unsortedDF.sort_index()\n",
    "print(sortedDF)\n",
    "\n",
    "sortedDF = unsortedDF.sort_index(ascending=False)\n",
    "# print(sortedDF)\n",
    "\n",
    "sortedDF = unsortedDF.sort_index(axis=1)  # Sorting as Columns\n",
    "print(sortedDF)"
   ]
  },
  {
   "cell_type": "code",
   "execution_count": 93,
   "metadata": {},
   "outputs": [
    {
     "name": "stdout",
     "output_type": "stream",
     "text": [
      "   col1  col2  col3\n",
      "0     2     1     3\n",
      "1     3     3     1\n",
      "3     1     3     4\n",
      "2     4     4     2\n"
     ]
    }
   ],
   "source": [
    "unsortedDF = pd.DataFrame(\n",
    "    data={\"col1\": [2, 3, 4, 1], \"col2\": [1, 3, 4, 3], \"col3\": [3, 1, 2, 4]}\n",
    ")\n",
    "print(unsortedDF.sort_values(by=\"col2\"))"
   ]
  },
  {
   "cell_type": "code",
   "execution_count": 103,
   "metadata": {},
   "outputs": [
    {
     "name": "stdout",
     "output_type": "stream",
     "text": [
      "0     tom\n",
      "1    john\n",
      "2     NaN\n",
      "3     red\n",
      "4     NaN\n",
      "dtype: object\n",
      "0     TOM\n",
      "1    JOHN\n",
      "2     NaN\n",
      "3     RED\n",
      "4     NaN\n",
      "dtype: object\n",
      "0    3.0\n",
      "1    4.0\n",
      "2    NaN\n",
      "3    3.0\n",
      "4    NaN\n",
      "dtype: float64\n",
      "4\n"
     ]
    }
   ],
   "source": [
    "s = pd.Series([\"Tom\", \"John\", np.nan, \"Red\", 43])\n",
    "print(s.str.lower())\n",
    "print(s.str.upper())\n",
    "print(s.str.len())\n",
    "print(s.count())"
   ]
  },
  {
   "cell_type": "code",
   "execution_count": 125,
   "metadata": {},
   "outputs": [
    {
     "name": "stdout",
     "output_type": "stream",
     "text": [
      "                         Team  Number Position   Age Height  Weight  \\\n",
      "Name                                                                  \n",
      "Avery Bradley  Boston Celtics     0.0       PG  25.0    6-2   180.0   \n",
      "Jae Crowder    Boston Celtics    99.0       SF  25.0    6-6   235.0   \n",
      "John Holland   Boston Celtics    30.0       SG  27.0    6-5   205.0   \n",
      "R.J. Hunter    Boston Celtics    28.0       SG  22.0    6-5   185.0   \n",
      "Jonas Jerebko  Boston Celtics     8.0       PF  29.0   6-10   231.0   \n",
      "\n",
      "                         College     Salary  \n",
      "Name                                         \n",
      "Avery Bradley              Texas  7730337.0  \n",
      "Jae Crowder            Marquette  6796117.0  \n",
      "John Holland   Boston University        NaN  \n",
      "R.J. Hunter        Georgia State  1148640.0  \n",
      "Jonas Jerebko                NaN  5000000.0  \n",
      "Name\n",
      "Shelvin Mack    26.0\n",
      "Raul Neto       24.0\n",
      "Tibor Pleiss    26.0\n",
      "Jeff Withey     26.0\n",
      "NaN              NaN\n",
      "Name: Age, dtype: float64\n"
     ]
    }
   ],
   "source": [
    "# Indexing and selecting\n",
    "\n",
    "data = pd.read_csv(\"nba.csv\", index_col=\"Name\")\n",
    "print(data.head())\n",
    "\n",
    "first = data[\"Age\"]\n",
    "print(first.tail())"
   ]
  },
  {
   "cell_type": "code",
   "execution_count": 136,
   "metadata": {},
   "outputs": [
    {
     "name": "stdout",
     "output_type": "stream",
     "text": [
      "Name         Avery Bradley\n",
      "Team        Boston Celtics\n",
      "Number                 0.0\n",
      "Position                PG\n",
      "Age                   25.0\n",
      "Height                 6-2\n",
      "Weight               180.0\n",
      "College              Texas\n",
      "Salary           7730337.0\n",
      "Name: 0, dtype: object \n",
      "\n",
      "Name           Jae Crowder\n",
      "Team        Boston Celtics\n",
      "Number                99.0\n",
      "Position                SF\n",
      "Age                   25.0\n",
      "Height                 6-6\n",
      "Weight               235.0\n",
      "College          Marquette\n",
      "Salary           6796117.0\n",
      "Name: 1, dtype: object \n",
      "\n",
      "Team        Boston Celtics\n",
      "Number                99.0\n",
      "Position                SF\n",
      "Age                   25.0\n",
      "Height                 6-6\n",
      "Weight               235.0\n",
      "College          Marquette\n",
      "Salary           6796117.0\n",
      "Name: Jae Crowder, dtype: object\n"
     ]
    }
   ],
   "source": [
    "# Loc[] and iLoc[]\n",
    "data = pd.read_csv(\"nba.csv\")\n",
    "print(data.loc[0], \"\\n\")  # Location by numeric index\n",
    "print(data.loc[1], \"\\n\")\n",
    "\n",
    "data = pd.read_csv(\"nba.csv\", index_col=\"Name\")\n",
    "print(data.iloc[1])  # Location by alphanum index"
   ]
  }
 ],
 "metadata": {
  "kernelspec": {
   "display_name": "Python 3",
   "language": "python",
   "name": "python3"
  },
  "language_info": {
   "codemirror_mode": {
    "name": "ipython",
    "version": 3
   },
   "file_extension": ".py",
   "mimetype": "text/x-python",
   "name": "python",
   "nbconvert_exporter": "python",
   "pygments_lexer": "ipython3",
   "version": "3.9.4"
  }
 },
 "nbformat": 4,
 "nbformat_minor": 2
}
